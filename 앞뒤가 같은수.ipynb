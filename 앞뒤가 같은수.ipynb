{
 "cells": [
  {
   "cell_type": "markdown",
   "metadata": {},
   "source": [
    "앞뒤가 같은 수는 바로 쓴 값과 거꾸로 쓴 값이 같은 수이다. 다음과 같은 예를 들 수 있다.\n",
    "\n",
    "1\n",
    "\n",
    "44\n",
    "\n",
    "101\n",
    "\n",
    "2002\n",
    "\n",
    "8972798\n",
    "\n",
    "1111111111111\n",
    "\n",
    "0, 1, 2, 3, 4, 5, 6, 7, 8, 9, 11, 22, 33, 44, 55, 66, 77, 88, 99, 101, 111, ... 과 같이, 0 이상의 앞뒤가 같은 수를 크기 순으로 나열할 때, n 번째 수를 계산하는 프로그램을 작성하라.\n",
    "\n",
    "n은 1부터 시작하며 크기에는 제한이 없다.\n",
    "\n",
    "입출력예\n",
    "예 1) 1 => 0\n",
    "예 2) 4 => 3\n",
    "예 3) 30 => 202\n",
    "예 4) 100 => 909\n",
    "예 5) 30000 => 200000002\n",
    "예 6) 1000000 => 90000000009"
   ]
  },
  {
   "cell_type": "code",
   "execution_count": 3,
   "metadata": {},
   "outputs": [],
   "source": [
    "def same_front_back(n):\n",
    "    b=str(n)\n",
    "    if b[0]==b[-1]:  return n \n",
    "    else: return 'f'"
   ]
  },
  {
   "cell_type": "code",
   "execution_count": 25,
   "metadata": {},
   "outputs": [],
   "source": [
    "def make_same_num(x):\n",
    "    global same_num\n",
    "    same_num=[]\n",
    "    i=0\n",
    "    \n",
    "    while i<x:\n",
    "        #print(i)\n",
    "        if (same_front_back(i)!='f'):\n",
    "            same_num.append(same_front_back(i))\n",
    "    \n",
    "        #print(same_front_back(i))\n",
    "        i+=1\n",
    "        "
   ]
  },
  {
   "cell_type": "code",
   "execution_count": null,
   "metadata": {},
   "outputs": [],
   "source": [
    "# 내가 105번쨰 smae num 출력해라 라고하면 \n",
    "# input 105 넣고 4\n",
    "# same_num 만들어서  # make_same_num(x) 에서 x를 어떻게 지정할 것인가?  \n",
    "\n",
    "#input 10까지면 -? x 1자리수(x=10)             10 \n",
    "# 11 ~ 19까지면 - 두 자리수(x=100)               10+9\n",
    "# 20~ 109까지 - 세자리수 (x=1000)                 10+9+90 \n",
    "# 109~ 1118 까지 - 네자리수(x=10000) ...                          10+9+90+900\n",
    "\n",
    "\n",
    "\n",
    "#part1=10 \n",
    "#part2=10+9\n",
    "#part3=10+9+90\n",
    "#part4=10+9+90+900\n",
    "\n",
    "#part i =     10 +  S ( 9*10^i\n",
    "\n",
    "\n",
    "\n",
    "# same_num[105] 출력해야함 "
   ]
  },
  {
   "cell_type": "code",
   "execution_count": null,
   "metadata": {},
   "outputs": [],
   "source": []
  },
  {
   "cell_type": "code",
   "execution_count": null,
   "metadata": {},
   "outputs": [],
   "source": []
  },
  {
   "cell_type": "code",
   "execution_count": null,
   "metadata": {},
   "outputs": [],
   "source": []
  },
  {
   "cell_type": "code",
   "execution_count": null,
   "metadata": {},
   "outputs": [],
   "source": []
  }
 ],
 "metadata": {
  "kernelspec": {
   "display_name": "Python 3",
   "language": "python",
   "name": "python3"
  },
  "language_info": {
   "codemirror_mode": {
    "name": "ipython",
    "version": 3
   },
   "file_extension": ".py",
   "mimetype": "text/x-python",
   "name": "python",
   "nbconvert_exporter": "python",
   "pygments_lexer": "ipython3",
   "version": "3.7.4"
  }
 },
 "nbformat": 4,
 "nbformat_minor": 2
}

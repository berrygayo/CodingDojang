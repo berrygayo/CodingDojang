{
 "cells": [
  {
   "cell_type": "markdown",
   "metadata": {},
   "source": [
    "여기 배열이 하나 있습니다. 이 배열의 크기는 n으로 106을 넘지 않습니다. 그리고 이 배열의 왼쪽 끝에서 오른쪽 끝으로 움직이고 있는 슬라이딩 윈도우가 있습니다. 이 윈도우의 길이는 k입니다. 여러분은 윈도우 안에 보이는 k개의 수만을 볼 수 있습니다. 윈도우는 한 번에 한 칸씩 오른쪽으로 움직입니다. 다음은 예제입니다.\n",
    "\n",
    "\n",
    "\n",
    "![nn](slidingWindow.png)\n",
    "\n",
    "슬라이딩 윈도우가 각 위치에 있을 때 보이는 최대값과 최소값이 무엇인지 구하는 것이 여러분에게 주어진 문제입니다.\n",
    "\n",
    "입력\n",
    "\n",
    "입력은 두 개의 줄로 이루어져 있습니다. 첫 번째 줄은 배열의 길이와 슬라이딩 윈도우의 길이를 나타내는 두 개의 정수n과 k를 담고 있습니다. 다음 줄에 배열의 내용을 나타내는 n개의 정수가 담겨 있습니다.\n",
    "\n",
    "출력\n",
    "\n",
    "출력은 두 개의 줄을 담고 있어야 합니다. 첫 번째 줄은 윈도우가 왼쪽에서 오른쪽으로 움직일 때마다 윈도우에 보이는 최소값을 나타냅니다. 두번째 줄은 최대값입니다.\n",
    "\n",
    "+ Sample Input\n",
    "\n",
    "8 3\n",
    "\n",
    "1 3 -1 -3 5 3 6 7\n",
    "\n",
    "+ Sample Output\n",
    "\n",
    "-1 -3 -3 -3 3 3\n",
    "\n",
    "3 3 5 5 6 7\n",
    "\n",
    "\n",
    "Time Limit: 12000MS     \n",
    "Memory Limit: 65536K"
   ]
  },
  {
   "cell_type": "code",
   "execution_count": 18,
   "metadata": {},
   "outputs": [
    {
     "name": "stdout",
     "output_type": "stream",
     "text": [
      "배열의 길이와 슬라이딩 윈도우의 길이를 입력해주세요.8 3\n"
     ]
    }
   ],
   "source": [
    "n,w=input('배열의 길이와 슬라이딩 윈도우의 길이를 입력해주세요.').split()"
   ]
  },
  {
   "cell_type": "code",
   "execution_count": 19,
   "metadata": {},
   "outputs": [],
   "source": [
    "n=int(n)\n",
    "w=int(w)"
   ]
  },
  {
   "cell_type": "code",
   "execution_count": 20,
   "metadata": {},
   "outputs": [
    {
     "name": "stdout",
     "output_type": "stream",
     "text": [
      "배열을 입력해주세요. 1 3 -1 -3 5 3 6 7\n"
     ]
    }
   ],
   "source": [
    "a=input('배열을 입력해주세요. ').split()"
   ]
  },
  {
   "cell_type": "code",
   "execution_count": 21,
   "metadata": {},
   "outputs": [
    {
     "data": {
      "text/plain": [
       "[1, 3, -1, -3, 5, 3, 6, 7]"
      ]
     },
     "execution_count": 21,
     "metadata": {},
     "output_type": "execute_result"
    }
   ],
   "source": [
    "a=list(map(int,a)) # 문자열 리스트 -> 숫자 리스트 \n",
    "a"
   ]
  },
  {
   "cell_type": "code",
   "execution_count": 25,
   "metadata": {},
   "outputs": [],
   "source": [
    "#시간 측정 코드 \n",
    "import time\n",
    "start=time.time() #시작 시간 저장 "
   ]
  },
  {
   "cell_type": "code",
   "execution_count": 26,
   "metadata": {},
   "outputs": [],
   "source": [
    "def Sliding_Window(n,w,a):\n",
    "    for i in range(n-2):\n",
    "        temp=[]\n",
    "        for j in range(i,i+w):\n",
    "            temp.append(a[j])\n",
    "            \n",
    "        #print(temp)    \n",
    "        print('step %d'%(i) )\n",
    "        print('최솟값 : %d, 최댓값 : %d' %(min(temp),max(temp)) )"
   ]
  },
  {
   "cell_type": "code",
   "execution_count": 27,
   "metadata": {},
   "outputs": [
    {
     "name": "stdout",
     "output_type": "stream",
     "text": [
      "step 0\n",
      "최솟값 : -1, 최댓값 : 3\n",
      "step 1\n",
      "최솟값 : -3, 최댓값 : 3\n",
      "step 2\n",
      "최솟값 : -3, 최댓값 : 5\n",
      "step 3\n",
      "최솟값 : -3, 최댓값 : 5\n",
      "step 4\n",
      "최솟값 : 3, 최댓값 : 6\n",
      "step 5\n",
      "최솟값 : 3, 최댓값 : 7\n"
     ]
    }
   ],
   "source": [
    "Sliding_Window(n,w,a)"
   ]
  },
  {
   "cell_type": "code",
   "execution_count": 28,
   "metadata": {},
   "outputs": [
    {
     "name": "stdout",
     "output_type": "stream",
     "text": [
      "time:  0.5681266784667969\n"
     ]
    }
   ],
   "source": [
    "print(\"time: \", time.time() -start) #현재시각 - 시작시각 = 실행시긴 "
   ]
  }
 ],
 "metadata": {
  "kernelspec": {
   "display_name": "Python 3",
   "language": "python",
   "name": "python3"
  },
  "language_info": {
   "codemirror_mode": {
    "name": "ipython",
    "version": 3
   },
   "file_extension": ".py",
   "mimetype": "text/x-python",
   "name": "python",
   "nbconvert_exporter": "python",
   "pygments_lexer": "ipython3",
   "version": "3.7.3"
  }
 },
 "nbformat": 4,
 "nbformat_minor": 2
}

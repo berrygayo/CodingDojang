{
 "cells": [
  {
   "cell_type": "markdown",
   "metadata": {},
   "source": [
    "파이썬과 같은 몇몇 프로그래밍 언어는 Pothole_case 를 더 선호하는 언어라고 합니다.\n",
    "\n",
    "Example:\n",
    "\n",
    "codingDojang --> coding_dojang\n",
    "\n",
    "numGoat30 --> num_goat_3_0\n",
    "\n",
    "위 보기와 같이 CameleCase를 Pothole_case 로 바꾸는 함수를 만들어요!\n",
    "\n",
    "출처: UT past test"
   ]
  },
  {
   "cell_type": "markdown",
   "metadata": {},
   "source": [
    "# 가영 생각\n",
    "대문자가 나오면 > '_'+ lower소문자 로 대체\n",
    "\n",
    "숫자 > _"
   ]
  },
  {
   "cell_type": "code",
   "execution_count": null,
   "metadata": {},
   "outputs": [],
   "source": [
    "a='codingDojang'\n",
    "b='numGoat30'"
   ]
  },
  {
   "cell_type": "code",
   "execution_count": 11,
   "metadata": {},
   "outputs": [],
   "source": [
    "# 대문자가 있는 위치에 '_'를 붙임 \n",
    "# a.lower()로 모든 대문자들을 소문자로 한번에 바꿈 \n",
    "\n",
    "def Pothole_case(a):\n",
    "    i=0   \n",
    "    over_count=0 #while 문을 빠져나가기 위해 사용하는 카운트 \n",
    "    \n",
    "    temp_b=''\n",
    "    \n",
    "    while 1:\n",
    "        \n",
    "        if a[i].isupper()==True:\n",
    "            temp1=a[i].lower() #대문자를 소문자로 바꾸고 \n",
    "            temp2='_'+temp1 # 바꾼 소문자 앞에 '_' 붙임 \n",
    "            #a=a.replace(a[i],temp2)\n",
    "            temp_b=temp_b+temp2\n",
    "            #print(a)\n",
    "            over_count+=1\n",
    "            \n",
    "        elif a[i].isdigit()==True:\n",
    "            temp3='_'+a[i] #숫자 앞에 '_' 붙임 \n",
    "            #a=a.replace(a[i],temp3)\n",
    "            temp_b=temp_b+temp3\n",
    "            over_count+=1\n",
    "            \n",
    "        else: \n",
    "            temp_b=temp_b+a[i]\n",
    "            over_count+=1 \n",
    "    \n",
    "        \n",
    "        if i>=len(a)-1: #i는 0부터 시작이니까 1뺌 \n",
    "            break;\n",
    "            \n",
    "        i+=1\n",
    "        \n",
    "        #잘 돌아가나 확인 \n",
    "        #print(i)\n",
    "        #print(over_count)\n",
    "        \n",
    "    print(temp_b)"
   ]
  },
  {
   "cell_type": "code",
   "execution_count": 12,
   "metadata": {},
   "outputs": [
    {
     "name": "stdout",
     "output_type": "stream",
     "text": [
      "coding_dojang\n"
     ]
    }
   ],
   "source": [
    "Pothole_case(a)"
   ]
  },
  {
   "cell_type": "code",
   "execution_count": 13,
   "metadata": {},
   "outputs": [
    {
     "name": "stdout",
     "output_type": "stream",
     "text": [
      "num_goat_3_0\n"
     ]
    }
   ],
   "source": [
    "Pothole_case(b)"
   ]
  },
  {
   "cell_type": "markdown",
   "metadata": {},
   "source": [
    "# for i in range(len(a)) 로 가지 말고\n",
    "# for c in s 문자를 바로 가져옴"
   ]
  },
  {
   "cell_type": "code",
   "execution_count": 14,
   "metadata": {},
   "outputs": [
    {
     "name": "stdout",
     "output_type": "stream",
     "text": [
      "coding_dojang\n",
      "num_goat_3_0\n"
     ]
    }
   ],
   "source": [
    "def to_pathole(s):\n",
    "    res=''\n",
    "    for c in s:\n",
    "        if c.isupper():c='_'+c.lower()\n",
    "        elif c.isdigit():c='_'+c\n",
    "        res += c\n",
    "    return res\n",
    "\n",
    "print(to_pathole('codingDojang'))\n",
    "print(to_pathole('numGoat30'))"
   ]
  },
  {
   "cell_type": "code",
   "execution_count": null,
   "metadata": {},
   "outputs": [],
   "source": []
  }
 ],
 "metadata": {
  "kernelspec": {
   "display_name": "Python 3",
   "language": "python",
   "name": "python3"
  },
  "language_info": {
   "codemirror_mode": {
    "name": "ipython",
    "version": 3
   },
   "file_extension": ".py",
   "mimetype": "text/x-python",
   "name": "python",
   "nbconvert_exporter": "python",
   "pygments_lexer": "ipython3",
   "version": "3.7.3"
  }
 },
 "nbformat": 4,
 "nbformat_minor": 2
}

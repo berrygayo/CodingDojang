{
 "cells": [
  {
   "cell_type": "raw",
   "metadata": {},
   "source": [
    "현우는 여동생한테 곱하기를 가르쳐 주던중 곱하기를 외우기 귀찮아하던 자신의 어릴적 모습이 생각이나\n",
    "\n",
    "어떻게하면 극복을 할 수 있을까 고민을 하던중 한가지 꼼수를 생각했다!\n",
    "\n",
    "그것은 n을 입력받고 두개의 양수의 곱이 n이 되는 모든 양수를 출력하는 프로그램을 만드는 것이다!\n",
    "\n",
    "ex : 18 > (18,1)(9,2)(6,3)(3,6)(2,9)(1,18) #9,2와 2,9는다른것으로본다.\n",
    "\n",
    "오늘도 귀찮은 현우를 위해 오늘도 힘써주자!\n",
    "\n",
    "(난이도 up.ver: n과m을 입력받고 m개의 양수의 곱이 n이 되는 모든 양수출력!)\n",
    "\n",
    "(이문제는 어디서 본거 같은 것을 생각해서 쓴거에요 근데 문제보다 스토리 짜기가 힘들어요..ㅠㅠ)\n",
    "\n"
   ]
  },
  {
   "cell_type": "markdown",
   "metadata": {},
   "source": [
    "### 가영 생각 \n",
    "\n",
    "- 약수를 구하자\n",
    "- 약수 집합을 구해서 앞순서와 뒷순서가 동일한 애들의 곱을 만들어내자. "
   ]
  },
  {
   "cell_type": "code",
   "execution_count": 5,
   "metadata": {},
   "outputs": [
    {
     "name": "stdout",
     "output_type": "stream",
     "text": [
      "[1, 2, 3, 5, 6, 9, 10, 15, 18, 30, 45, 90]\n",
      "[1, 3, 3, 9]\n"
     ]
    }
   ],
   "source": [
    "#약수를 구하는 함수 \n",
    "\n",
    "import math\n",
    "\n",
    "def get_divisor(num):\n",
    "    divisors=[]\n",
    "    length=int(math.sqrt(num))+1 \n",
    "    #만약 숫자 9가 들어오면 root(9) 3이 중간 약수 \n",
    "    # +1해주는 이유는 아래 for문에서 -1 되기 때문 \n",
    "    \n",
    "    \n",
    "    for i in range(1,length):\n",
    "        if num%i==0:\n",
    "            divisors.append(i)\n",
    "            divisors.append(num//i)\n",
    "    divisors.sort()\n",
    "    return divisors\n",
    "\n",
    "print(get_divisor(90))\n",
    "print(get_divisor(9))          "
   ]
  },
  {
   "cell_type": "code",
   "execution_count": 29,
   "metadata": {},
   "outputs": [
    {
     "name": "stdout",
     "output_type": "stream",
     "text": [
      "숫자를 입력해주세요:9\n"
     ]
    }
   ],
   "source": [
    "a=int(input('숫자를 입력해주세요:'))"
   ]
  },
  {
   "cell_type": "code",
   "execution_count": 30,
   "metadata": {},
   "outputs": [
    {
     "data": {
      "text/plain": [
       "[1, 3, 3, 9]"
      ]
     },
     "execution_count": 30,
     "metadata": {},
     "output_type": "execute_result"
    }
   ],
   "source": [
    "list_a=get_divisor(a)\n",
    "list_a"
   ]
  },
  {
   "cell_type": "code",
   "execution_count": 31,
   "metadata": {},
   "outputs": [],
   "source": [
    "result=[]\n",
    "\n",
    "#양 끝의 같은 자리들을 묶어서 출력 \n",
    "for i in range(len(list_a)):\n",
    "    result.append((list_a[i],list_a[len(list_a)-1-i]))\n"
   ]
  },
  {
   "cell_type": "code",
   "execution_count": 32,
   "metadata": {},
   "outputs": [
    {
     "data": {
      "text/plain": [
       "[(1, 9), (3, 3), (3, 3), (9, 1)]"
      ]
     },
     "execution_count": 32,
     "metadata": {},
     "output_type": "execute_result"
    }
   ],
   "source": [
    "result #(3,3)이 두 번 출력된다  "
   ]
  },
  {
   "cell_type": "code",
   "execution_count": 33,
   "metadata": {},
   "outputs": [
    {
     "data": {
      "text/plain": [
       "{(1, 9), (3, 3), (9, 1)}"
      ]
     },
     "execution_count": 33,
     "metadata": {},
     "output_type": "execute_result"
    }
   ],
   "source": [
    "set(result) #중복 제거 "
   ]
  }
 ],
 "metadata": {
  "kernelspec": {
   "display_name": "Python 3",
   "language": "python",
   "name": "python3"
  },
  "language_info": {
   "codemirror_mode": {
    "name": "ipython",
    "version": 3
   },
   "file_extension": ".py",
   "mimetype": "text/x-python",
   "name": "python",
   "nbconvert_exporter": "python",
   "pygments_lexer": "ipython3",
   "version": "3.7.3"
  }
 },
 "nbformat": 4,
 "nbformat_minor": 2
}

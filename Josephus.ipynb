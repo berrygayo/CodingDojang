{
 "cells": [
  {
   "cell_type": "markdown",
   "metadata": {},
   "source": [
    "약 2,000년 전에는 전쟁에서 병사들이 적들에 의해 동굴에 갇히게 되는 경우가 종종 있었다고 한다.\n",
    "\n",
    "그들은 포로가 되는것을 방지하기 위해 동그랗게 서서 마지막 한 사람이 남을 때 까지 순서대로 돌아가며 세번째에 해당되는 사람을 죽여 나갔다고 한다.\n",
    "\n",
    "마지막으로 남게되는 사람은 자살하기로 약속되어 있었지만 보통 적들에게 항복을 하는 경우가 많았다고 한다.\n",
    "\n",
    "여러분이 풀어야 할 문제는 총 인원수(N)와 간격(K)이 주어졌을 때 가장 마지막에 살아남는 병사의 위치(the safe position)를 알아내는 것이다.\n",
    "\n",
    "예를 들어 병사수가 총 10명이고 돌아가며 세번째에 해당되는 병사를 제거하는 경우는 다음과 같다:\n",
    "\n",
    "N = 10, K = 3\n",
    "\n",
    "위의 경우 다음과 같은 순서로 병사들이 제거된다. (괄호는 제거되는 병사를 의미한다)\n",
    "\n",
    "1st round: 1 2 (3) 4 5 (6) 7 8 (9) 10\n",
    "2nd round:                            1 (2) 4 5 (7) 8 10\n",
    "3rd round:                                                (1) 4 5 (8) 10\n",
    "4th round:                                                               4 (5) 10\n",
    "5th round:                                                                        4 (10)\n",
    "위 예에서 끝가지 살아남는 병사는 4, 즉 4번째 병사이다.\n",
    "\n",
    "입력 데이터는 총 병사수 N과 간격 K이다.\n",
    "출력 데이터는 마지막까지 살아남는 병사의 위치이다.\n",
    "\n",
    "(단, 최초 시작은 1번 병사부터이다.)\n",
    "\n",
    "입출력 예는 다음과 같다:\n",
    "\n",
    "initial data:\n",
    "10 3\n",
    "\n",
    "answer:\n",
    "4"
   ]
  },
  {
   "cell_type": "code",
   "execution_count": 1,
   "metadata": {},
   "outputs": [
    {
     "name": "stdout",
     "output_type": "stream",
     "text": [
      "10 3\n"
     ]
    }
   ],
   "source": [
    "n,k=input().split()"
   ]
  },
  {
   "cell_type": "code",
   "execution_count": 2,
   "metadata": {},
   "outputs": [],
   "source": [
    "n=int(n)\n",
    "k=int(k)"
   ]
  },
  {
   "cell_type": "code",
   "execution_count": 3,
   "metadata": {},
   "outputs": [
    {
     "name": "stdout",
     "output_type": "stream",
     "text": [
      "[4]\n"
     ]
    }
   ],
   "source": [
    "def Josephus(n,k):\n",
    "    a = list(range(1,n+1))\n",
    "    m = k - 1\n",
    "    b = 0\n",
    "    while len(a) > 1:\n",
    "        b = ((len(a)+b)%k) # (a의 길이 + 앞에서 마저 카운트해야하는 갯수(b) ) 를 3으로 나눈 나머지 \n",
    "        del a[m::k] #a[m::k] m번부터 끝까지 k범위만큼 #a[2::3] 면 a[2],a[5],a[8]이렇게 \n",
    "        m = k - b - 1 #시작점 조정 원래 a[2]부터 제거했지만 앞에 나머지 있는거 갯수 따라서 시작점 바껴야하므로 \n",
    "    return a\n",
    "\n",
    "print (Josephus(10,3))"
   ]
  },
  {
   "cell_type": "code",
   "execution_count": null,
   "metadata": {},
   "outputs": [],
   "source": []
  },
  {
   "cell_type": "code",
   "execution_count": null,
   "metadata": {},
   "outputs": [],
   "source": []
  },
  {
   "cell_type": "code",
   "execution_count": null,
   "metadata": {},
   "outputs": [],
   "source": []
  },
  {
   "cell_type": "code",
   "execution_count": 5,
   "metadata": {},
   "outputs": [
    {
     "data": {
      "text/plain": [
       "[3, 6, 9]"
      ]
     },
     "execution_count": 5,
     "metadata": {},
     "output_type": "execute_result"
    }
   ],
   "source": [
    "b = list(range(1,n+1))\n",
    "\n",
    "b[2::3]"
   ]
  },
  {
   "cell_type": "code",
   "execution_count": null,
   "metadata": {},
   "outputs": [],
   "source": []
  }
 ],
 "metadata": {
  "kernelspec": {
   "display_name": "Python 3",
   "language": "python",
   "name": "python3"
  },
  "language_info": {
   "codemirror_mode": {
    "name": "ipython",
    "version": 3
   },
   "file_extension": ".py",
   "mimetype": "text/x-python",
   "name": "python",
   "nbconvert_exporter": "python",
   "pygments_lexer": "ipython3",
   "version": "3.7.3"
  }
 },
 "nbformat": 4,
 "nbformat_minor": 2
}

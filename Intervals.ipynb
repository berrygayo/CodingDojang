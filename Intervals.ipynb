{
 "cells": [
  {
   "cell_type": "markdown",
   "metadata": {},
   "source": [
    "# 문제 설명\n",
    "n개의 닫힌 구간 [ai; bi]의 순열이 있습니다(i=1,2, ..., n). 이들 구간을 합쳐서 서로 겹치지 않는 닫힌 구간들의 합으로 나타낼 수 있습니다. 문제는 구간의 수를 최소로 하는 표현방법을 찾아내는 것입니다. 이 표현의 구간들은 출력 파일에서 반드시 증가하는 방향으로 나타나야 합니다. a <= b < c <= d 이고 또 그런 경우에만 구간 [a; b]와 [c; d]가 증가하는 방향이라고 말합니다.\n",
    "\n",
    "# # 입력\n",
    "입력의 첫 줄에는 정수 n이 있습니다. (3 <= n <= 50000). 이것은 구간의 수를 나타냅니다. (i+1)번째 줄에는 한 개의 공백으로 구분되는 두 개의 정수 ai, bi가 있습니다. 이것은 구간 [ai; bi]를 나타내는 표현입니다. 각각은 그 구간의 시작과 끝을 나타냅니다. (1 <= ai <= bi <= 1000000)\n",
    "\n",
    "## 출력\n",
    "출력은 서로 겹치지 않는 모든 구간 쌍의 표현을 담고 있어야 합니다. 각 줄은 하나의 구간 표현을 담고 있어야 합니다. 이 표현은 각 구간의 시작과 끝을 나타내는 두 개의 정수와 그 사이의 공백 하나로 이뤄져야 합니다. 출력의 구간들은 증가하는 순서로 존재해야 합니다."
   ]
  },
  {
   "cell_type": "markdown",
   "metadata": {},
   "source": [
    "![nn](Intervals.jpg)"
   ]
  },
  {
   "cell_type": "markdown",
   "metadata": {},
   "source": [
    "# 가영 생각 \n",
    "1. list를 sort 하여 크기순으로 정렬하고 \n",
    "2. 앞에 리스트의 마지막과 다음 리스트의 처음을 비교하여 interval 을 합칠지 말지 정한다. "
   ]
  },
  {
   "cell_type": "code",
   "execution_count": 32,
   "metadata": {},
   "outputs": [],
   "source": [
    "a=[[5,6],[1,4],[10,10],[6,9],[8,10]]\n",
    "n=len(a)\n",
    "#a=[[1,4],[6,7],[9,10]]"
   ]
  },
  {
   "cell_type": "code",
   "execution_count": 33,
   "metadata": {},
   "outputs": [
    {
     "data": {
      "text/plain": [
       "[[1, 4], [5, 6], [6, 9], [8, 10], [10, 10]]"
      ]
     },
     "execution_count": 33,
     "metadata": {},
     "output_type": "execute_result"
    }
   ],
   "source": [
    "a.sort()\n",
    "a"
   ]
  },
  {
   "cell_type": "code",
   "execution_count": 34,
   "metadata": {},
   "outputs": [
    {
     "name": "stdout",
     "output_type": "stream",
     "text": [
      "뒷값이 앞값보다 작음\n",
      "[[1, 4], [1, 4]]\n",
      "뒷값이 앞값보다 큼\n",
      "[[1, 4], [1, 4], [1, 4], [5, 6]]\n",
      "뒷값이 앞값보다 작음\n",
      "[[1, 4], [1, 4], [1, 4], [5, 6], [5, 9]]\n",
      "뒷값이 앞값보다 작음\n",
      "[[1, 4], [1, 4], [1, 4], [5, 6], [5, 9], [5, 10]]\n",
      "뒷값이 앞값보다 작음\n",
      "[[1, 4], [1, 4], [1, 4], [5, 6], [5, 9], [5, 10], [5, 10]]\n",
      "결과는\n",
      "[[1, 4], [5, 10]]\n"
     ]
    }
   ],
   "source": [
    "t=[[1,4]] #temp \n",
    "answer=[]\n",
    "c=0\n",
    "\n",
    "for i in a:\n",
    "    if i[0] <=  t[c][1]: #뒤 값이 앞의 값보다 작거나 같으면 \n",
    "        print('뒷값이 앞값보다 작음')\n",
    "        t.append([t[c][0],i[1]])        \n",
    "        c+=1\n",
    "        \n",
    "    else: \n",
    "        print('뒷값이 앞값보다 큼')\n",
    "        t.append([t[c][0],t[c][1]])\n",
    "        t.append([i[0],i[1]])\n",
    "        \n",
    "        answer.append([t[c][0],t[c][1]]) #구간이 나눠진 순간 저장시킴 \n",
    "        \n",
    "        c+=2 #append가 두개 붙으니까 2만큼 움직여서 비교해야함 \n",
    "        \n",
    "    if i==a[n-1]:\n",
    "        answer.append(t[-1]) #t에 저장한 마지막 값을 넣어줌 \n",
    "        \n",
    "    print(t)\n",
    "     \n",
    "\n",
    "print('결과는')\n",
    "print(answer)\n",
    "\n",
    "        "
   ]
  }
 ],
 "metadata": {
  "kernelspec": {
   "display_name": "Python 3",
   "language": "python",
   "name": "python3"
  },
  "language_info": {
   "codemirror_mode": {
    "name": "ipython",
    "version": 3
   },
   "file_extension": ".py",
   "mimetype": "text/x-python",
   "name": "python",
   "nbconvert_exporter": "python",
   "pygments_lexer": "ipython3",
   "version": "3.8.3"
  }
 },
 "nbformat": 4,
 "nbformat_minor": 2
}

{
 "cells": [
  {
   "cell_type": "markdown",
   "metadata": {},
   "source": [
    "중복을 허용하는 정수 배열이 있다. 이러한 배열의 순차집합 중 가장 큰 갯수의 순차집합을 구하시오.\n",
    "\n",
    "만약 아래와 같은 배열이라면\n",
    "\n",
    "+ {1,6,10,4,7,9,5}\n",
    "\n",
    "다음과 같은 순차집합이 있을 수 있다.\n",
    "\n",
    "+ {1} : 1개\n",
    "+ {4,5,6,7} : 4개\n",
    "+ {9,10} : 2개\n",
    "가장 큰 갯수의 순차집합은 원소 갯수가 4개인 {4,5,6,7} 이 된다.\n",
    "\n",
    "Sort를 이용하면 문제가 너무 단순해지므로 Sort 함수를 이용하지 말고 O(n) 시간에 푸시오."
   ]
  },
  {
   "cell_type": "code",
   "execution_count": 1,
   "metadata": {},
   "outputs": [],
   "source": [
    "a=[1,6,10,4,7,9,5]\n",
    "result=[] #순차 집합 "
   ]
  },
  {
   "cell_type": "markdown",
   "metadata": {},
   "source": [
    "기준 숫자(최솟값)을 기준으로 +1씩 이동하면서 값이 존재하면 temp에 저장시킴 "
   ]
  },
  {
   "cell_type": "code",
   "execution_count": 2,
   "metadata": {},
   "outputs": [],
   "source": [
    "def find_diff_1(mini,a): # 리스트 a 에서 최솟값들이 들어와야함 \n",
    "    temp=[mini]\n",
    "    \n",
    "    while 1: \n",
    "        if mini+1 in a:\n",
    "            temp.append(mini+1)\n",
    "            mini=mini+1\n",
    "        else : \n",
    "            \n",
    "            break;\n",
    "    return temp"
   ]
  },
  {
   "cell_type": "markdown",
   "metadata": {},
   "source": [
    "함수가 잘 돌아가는지 테스트 "
   ]
  },
  {
   "cell_type": "code",
   "execution_count": 3,
   "metadata": {},
   "outputs": [
    {
     "data": {
      "text/plain": [
       "[1]"
      ]
     },
     "execution_count": 3,
     "metadata": {},
     "output_type": "execute_result"
    }
   ],
   "source": [
    "find_diff_1(1,a)"
   ]
  },
  {
   "cell_type": "code",
   "execution_count": 4,
   "metadata": {},
   "outputs": [
    {
     "data": {
      "text/plain": [
       "[4, 5, 6, 7]"
      ]
     },
     "execution_count": 4,
     "metadata": {},
     "output_type": "execute_result"
    }
   ],
   "source": [
    "find_diff_1(4,a)"
   ]
  },
  {
   "cell_type": "markdown",
   "metadata": {},
   "source": [
    "1. 최솟값, a \n",
    "2. a에서 위의 최솟값을 제거\n",
    "3. 제거된 a 기준으로 최솟값을 다시 뽑아서 함수에 계속 넣음 "
   ]
  },
  {
   "cell_type": "code",
   "execution_count": 5,
   "metadata": {},
   "outputs": [],
   "source": [
    "while 1:\n",
    "    \n",
    "    if min(a)==max(a):break;\n",
    "    \n",
    "    else:\n",
    "        mini=min(a)\n",
    "        result.append(find_diff_1(mini,a))\n",
    "        a.remove(min(a))"
   ]
  },
  {
   "cell_type": "code",
   "execution_count": 6,
   "metadata": {},
   "outputs": [
    {
     "data": {
      "text/plain": [
       "[[1], [4, 5, 6, 7], [5, 6, 7], [6, 7], [7], [9, 10]]"
      ]
     },
     "execution_count": 6,
     "metadata": {},
     "output_type": "execute_result"
    }
   ],
   "source": [
    "result"
   ]
  },
  {
   "cell_type": "markdown",
   "metadata": {},
   "source": [
    "result 에서 최대 길이를 가지는 리스트의 인덱스를 찾아 가장 긴 순차집합을 찾는다. "
   ]
  },
  {
   "cell_type": "code",
   "execution_count": 15,
   "metadata": {},
   "outputs": [],
   "source": [
    "max = 0\n",
    "max_index = 0\n",
    "for i in range(len(result)):\n",
    "    if len(result[i]) > max:\n",
    "        max = len(result[i])\n",
    "        max_index = i"
   ]
  },
  {
   "cell_type": "code",
   "execution_count": 17,
   "metadata": {},
   "outputs": [
    {
     "data": {
      "text/plain": [
       "[4, 5, 6, 7]"
      ]
     },
     "execution_count": 17,
     "metadata": {},
     "output_type": "execute_result"
    }
   ],
   "source": [
    "result[max_index]"
   ]
  }
 ],
 "metadata": {
  "kernelspec": {
   "display_name": "Python 3",
   "language": "python",
   "name": "python3"
  },
  "language_info": {
   "codemirror_mode": {
    "name": "ipython",
    "version": 3
   },
   "file_extension": ".py",
   "mimetype": "text/x-python",
   "name": "python",
   "nbconvert_exporter": "python",
   "pygments_lexer": "ipython3",
   "version": "3.7.3"
  }
 },
 "nbformat": 4,
 "nbformat_minor": 2
}

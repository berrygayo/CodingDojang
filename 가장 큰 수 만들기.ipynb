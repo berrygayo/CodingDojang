{
 "cells": [
  {
   "cell_type": "markdown",
   "metadata": {},
   "source": [
    "음수가 아닌 수들이 주어졌을 때 그 수들을 이어서 만들 수 있는 가장 큰 수를 구하시오. 예를 들어 [1,2,3]이 주어졌을 때 만들 수 있는 가장 큰 수는 321이고, [3, 30, 34, 5, 9] 가 주어지면 만들 수 있는 가장 큰 수는 9534330이다."
   ]
  },
  {
   "cell_type": "code",
   "execution_count": 89,
   "metadata": {},
   "outputs": [],
   "source": [
    "# xxxxxx=['3', '30', '34', '5', '9']\n",
    "# xxxxxx.sort(reverse=True)\n",
    "# xxxxxx\n"
   ]
  },
  {
   "cell_type": "code",
   "execution_count": null,
   "metadata": {},
   "outputs": [],
   "source": [
    "# 1. 각 요소의 맨 앞자리를 비교해서 가장 큰 수가 맨 앞 \n",
    "# 2. 앞 자리 수가 같다면 그 다음 자릿수를 비교 \n",
    "#    - 두 수의 자릿수가 같다면 ex) 34,30 뒷 자리 수 비교 \n",
    "#    - 두 번째 자리 수가 없다면 ex) 3, 30 두 번째 자리 수가 있는 요소의 두 번째 자릿수(0)과 한자리수(3) 의 크기를 비교하여 더 큰것이 먼저 나오도록 함 \n"
   ]
  },
  {
   "cell_type": "code",
   "execution_count": 40,
   "metadata": {},
   "outputs": [
    {
     "name": "stdout",
     "output_type": "stream",
     "text": [
      "수를 입력하시오: 9 57 6 30 34 123 13 124 1\n"
     ]
    }
   ],
   "source": [
    "data=input('수를 입력하시오: ').split()"
   ]
  },
  {
   "cell_type": "code",
   "execution_count": 41,
   "metadata": {},
   "outputs": [
    {
     "data": {
      "text/plain": [
       "['9', '57', '6', '30', '34', '123', '13', '124', '1']"
      ]
     },
     "execution_count": 41,
     "metadata": {},
     "output_type": "execute_result"
    }
   ],
   "source": [
    "data"
   ]
  },
  {
   "cell_type": "code",
   "execution_count": null,
   "metadata": {},
   "outputs": [],
   "source": [
    "#입력된 자료를 슛자형으로 변환 \n",
    "def str_to_int(data):\n",
    "    \n",
    "    int_trans=[]\n",
    "    \n",
    "    for i in range(len(data)):\n",
    "        try:\n",
    "            int_trans.append(int(data[i]))\n",
    "        except:\n",
    "            int_trans.append(data[i])\n",
    "            \n",
    "    return int_trans"
   ]
  },
  {
   "cell_type": "code",
   "execution_count": 66,
   "metadata": {},
   "outputs": [],
   "source": [
    "# 각 요소의 i번째 자릿수 불러오기 \n",
    "def find_i(a,i):\n",
    "    data2=[]\n",
    "    for j in range(len(a)):\n",
    "        try : \n",
    "            data2.append(data[j][i])\n",
    "\n",
    "        except IndexError:  #숫자가 존재하지않아 index 에러가 나면 그 자리를 x 로 대체 \n",
    "            data2.append('x')\n",
    "        \n",
    "    return str_to_int(data2)"
   ]
  },
  {
   "cell_type": "code",
   "execution_count": 67,
   "metadata": {},
   "outputs": [
    {
     "data": {
      "text/plain": [
       "[9, 5, 6, 3, 3, 1, 1, 1, 1]"
      ]
     },
     "execution_count": 67,
     "metadata": {},
     "output_type": "execute_result"
    }
   ],
   "source": [
    "find_i(data,0) #첫번째 수 "
   ]
  },
  {
   "cell_type": "code",
   "execution_count": 68,
   "metadata": {},
   "outputs": [
    {
     "data": {
      "text/plain": [
       "['x', 7, 'x', 0, 4, 2, 3, 2, 'x']"
      ]
     },
     "execution_count": 68,
     "metadata": {},
     "output_type": "execute_result"
    }
   ],
   "source": [
    "find_i(data,1) #두번째 수"
   ]
  },
  {
   "cell_type": "code",
   "execution_count": 69,
   "metadata": {},
   "outputs": [
    {
     "data": {
      "text/plain": [
       "['x', 'x', 'x', 'x', 'x', 3, 'x', 4, 'x']"
      ]
     },
     "execution_count": 69,
     "metadata": {},
     "output_type": "execute_result"
    }
   ],
   "source": [
    "find_i(data,2) # 세번째 수 "
   ]
  },
  {
   "cell_type": "code",
   "execution_count": 70,
   "metadata": {},
   "outputs": [
    {
     "data": {
      "text/plain": [
       "['x', 'x', 'x', 'x', 'x', 'x', 'x', 'x', 'x']"
      ]
     },
     "execution_count": 70,
     "metadata": {},
     "output_type": "execute_result"
    }
   ],
   "source": [
    "find_i(data,3) #네번째 수"
   ]
  },
  {
   "cell_type": "code",
   "execution_count": 76,
   "metadata": {},
   "outputs": [],
   "source": [
    "\n",
    "# 여러 수 받아서 최댓값 찾아내기\n",
    "# 같은 숫자면 다음 숫자 비교  . . . . \n",
    "\n",
    "def find_max(data): #리스트로 받기 \n",
    "    \n",
    "    #요소들의 길이를 저장해서 가장 긴 길이를 찾자 \n",
    "    \n",
    "    xxx=[]\n",
    "    for i in range(len(data)):\n",
    "        xxx.append(len(data[i])) \n",
    "    max_xxx=max(xxx) #요소들중 가장 긴 길이     \n",
    "        \n",
    "        \n",
    "    tmp=[]    \n",
    "    for j in range(max_xxx)  \n",
    "        try:\n",
    "            find_i(data,i)\n",
    "            \n",
    "            \n",
    "        except find_i(data,i)=='x':\n",
    "            \n",
    "            \n",
    "\n",
    "        \n",
    "        \n",
    "    \n",
    "        \n",
    "    "
   ]
  },
  {
   "cell_type": "code",
   "execution_count": 77,
   "metadata": {},
   "outputs": [
    {
     "name": "stdout",
     "output_type": "stream",
     "text": [
      "3\n"
     ]
    }
   ],
   "source": [
    "find_max(data)"
   ]
  },
  {
   "cell_type": "code",
   "execution_count": null,
   "metadata": {},
   "outputs": [],
   "source": []
  },
  {
   "cell_type": "code",
   "execution_count": null,
   "metadata": {},
   "outputs": [],
   "source": []
  },
  {
   "cell_type": "code",
   "execution_count": null,
   "metadata": {},
   "outputs": [],
   "source": []
  },
  {
   "cell_type": "code",
   "execution_count": null,
   "metadata": {},
   "outputs": [],
   "source": [
    "# 첫번재 자리끼리 비교해서 큰 순서대로 넣음 \n",
    "# 만약 첫번째 자리수가 같다면 !!! find_max함수에 숫자를 넣어서 비교함"
   ]
  }
 ],
 "metadata": {
  "kernelspec": {
   "display_name": "Python 3",
   "language": "python",
   "name": "python3"
  },
  "language_info": {
   "codemirror_mode": {
    "name": "ipython",
    "version": 3
   },
   "file_extension": ".py",
   "mimetype": "text/x-python",
   "name": "python",
   "nbconvert_exporter": "python",
   "pygments_lexer": "ipython3",
   "version": "3.7.4"
  }
 },
 "nbformat": 4,
 "nbformat_minor": 2
}

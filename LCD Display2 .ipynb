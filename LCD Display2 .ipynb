{
 "cells": [
  {
   "cell_type": "code",
   "execution_count": 8,
   "metadata": {},
   "outputs": [
    {
     "name": "stdout",
     "output_type": "stream",
     "text": [
      "       --   --        -- \n",
      "    |    |    | |  | |   \n",
      "    |    |    | |  | |   \n",
      "       --   --   --   -- \n",
      "    | |       |    |    |\n",
      "    | |       |    |    |\n",
      "       --   --        -- \n",
      "  ---   ---   ---   ---   --- \n",
      " |         | |   | |   | |   |\n",
      " |         | |   | |   | |   |\n",
      " |         | |   | |   | |   |\n",
      "  ---         ---   ---       \n",
      " |   |     | |   |     | |   |\n",
      " |   |     | |   |     | |   |\n",
      " |   |     | |   |     | |   |\n",
      "  ---         ---   ---   --- \n"
     ]
    }
   ],
   "source": [
    "class CustomLCD:\n",
    "    def __init__(self, size, num):\n",
    "        self.size = max(1, min(9, size))\n",
    "        self.str_num = str(max(0, min(99999999, num)))\n",
    "        self.designs = [\n",
    "            ' - | |   | | - ',        # 0\n",
    "            '     |     |   ',        # 1\n",
    "            ' -   | - |   - ',        # 2\n",
    "            ' -   | -   | - ',        # 3\n",
    "            '   | | -   |   ',        # 4\n",
    "            ' - |   -   | - ',        # 5\n",
    "            ' - |   - | | - ',        # 6\n",
    "            ' -   |     |   ',        # 7\n",
    "            ' - | | - | | - ',        # 8\n",
    "            ' - | | -   | - ',        # 9\n",
    "        ]\n",
    "\n",
    "    # 지정한 row 에 해당하는 한줄 출력 함수, 그 한줄을 반복 출력할 수도 있음\n",
    "    def __print_single_line(self, row, repeat_count = 1):\n",
    "        output = ''\n",
    "        for str_n in self.str_num:\n",
    "            output += ' '\n",
    "            output += self.designs[int(str_n)][row * 3]\n",
    "            output += self.designs[int(str_n)][row * 3 + 1] * self.size\n",
    "            output += self.designs[int(str_n)][row * 3 + 2]\n",
    "\n",
    "        for i in range(repeat_count):\n",
    "            print(output)\n",
    "\n",
    "    # 전체 출력함수\n",
    "    def print_LCD(self):\n",
    "        self.__print_single_line(0)\n",
    "        self.__print_single_line(1, self.size)\n",
    "        self.__print_single_line(2)\n",
    "        self.__print_single_line(3, self.size)\n",
    "        self.__print_single_line(4)\n",
    "\n",
    "CustomLCD(2, 12345).print_LCD()\n",
    "CustomLCD(3, 67890).print_LCD()"
   ]
  },
  {
   "cell_type": "code",
   "execution_count": 3,
   "metadata": {},
   "outputs": [],
   "source": [
    "class CustomLCD:\n",
    "    def __init__(self, size, num): # class 에서 init 함수는 초기화를 도와준다 \n",
    "        self.size = max(1, min(9, size))\n",
    "        self.str_num = str(max(0, min(99999999, num)))\n",
    "        self.designs = [\n",
    "            ' - | |   | | - ',        # 0\n",
    "            '     |     |   ',        # 1\n",
    "            ' -   | - |   - ',        # 2\n",
    "            ' -   | -   | - ',        # 3\n",
    "            '   | | -   |   ',        # 4\n",
    "            ' - |   -   | - ',        # 5\n",
    "            ' - |   - | | - ',        # 6\n",
    "            ' -   |     |   ',        # 7\n",
    "            ' - | | - | | - ',        # 8\n",
    "            ' - | | -   | - ',        # 9\n",
    "        ]\n"
   ]
  },
  {
   "cell_type": "code",
   "execution_count": null,
   "metadata": {},
   "outputs": [],
   "source": []
  },
  {
   "cell_type": "code",
   "execution_count": null,
   "metadata": {},
   "outputs": [],
   "source": []
  },
  {
   "cell_type": "code",
   "execution_count": null,
   "metadata": {},
   "outputs": [],
   "source": []
  },
  {
   "cell_type": "code",
   "execution_count": null,
   "metadata": {},
   "outputs": [],
   "source": []
  }
 ],
 "metadata": {
  "kernelspec": {
   "display_name": "Python 3",
   "language": "python",
   "name": "python3"
  },
  "language_info": {
   "codemirror_mode": {
    "name": "ipython",
    "version": 3
   },
   "file_extension": ".py",
   "mimetype": "text/x-python",
   "name": "python",
   "nbconvert_exporter": "python",
   "pygments_lexer": "ipython3",
   "version": "3.7.3"
  }
 },
 "nbformat": 4,
 "nbformat_minor": 2
}

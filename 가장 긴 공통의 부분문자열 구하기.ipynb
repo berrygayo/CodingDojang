{
 "cells": [
  {
   "cell_type": "markdown",
   "metadata": {},
   "source": [
    "여기서의 “부분”은 LCS문제에서의 “부분”과는 다른 의미임을 명심하라. nice라는 문자열이 있다면 이 문제에서의 부분문자열의 집합은 {‘’, n, i, c, e, ni, ic, ce, nic, nice}이다.\n",
    "\n",
    "LCS문제에서의 “부분”에서는 nce도 하나의 부분문자열로 볼 수 있지만 이 문제에서는 부분문자열이 아니다. (즉, 이 문제에서의 “부분”은 원래 문자열에서 일정 부분을 잘라낸 것이다.)\n",
    "\n",
    "photography와 autograph 두 문자열이 있다고 할 때, ph, grap, to 등의 부분문자열이 있으며, 이 중 최대의 길이를 갖는 부분문자열은 tograph이다.\n",
    "\n",
    "입력\n",
    "\n",
    "두 줄에 각각의 스트링이 주어진다. 각 스트링의 길이는 4000이하이다.\n",
    "\n",
    "photography\n",
    "autograph\n",
    "출력\n",
    "\n",
    "첫줄에 찾은 부분문자열의 길이, 둘째 줄에 가장 긴 공통의 부분문자열을 출력한다.\n",
    "\n",
    "7\n",
    "tograph"
   ]
  },
  {
   "cell_type": "code",
   "execution_count": 12,
   "metadata": {},
   "outputs": [],
   "source": [
    "#부분문자열들을 찾아내고 \n",
    "# 두 개의 집합의 교집합을 찾아내고 \n",
    "# 그 중 가장 긴 요소를 찾는다 \n",
    "\n",
    "a='photography'\n",
    "b='autograph'\n",
    "\n",
    "def find_part(x): \n",
    "    result=[]\n",
    "    for i in range(len(x)): #글자 수 \n",
    "        for j in range(len(x)+1-i):\n",
    "            result.append(x[j:j+i])\n",
    "            \n",
    "    result.append(x)\n",
    "    \n",
    "    return result"
   ]
  },
  {
   "cell_type": "code",
   "execution_count": 18,
   "metadata": {},
   "outputs": [],
   "source": [
    "intersection=set(find_part(a))&set(find_part(b))"
   ]
  },
  {
   "cell_type": "code",
   "execution_count": 19,
   "metadata": {},
   "outputs": [
    {
     "data": {
      "text/plain": [
       "{'',\n",
       " 'a',\n",
       " 'ap',\n",
       " 'aph',\n",
       " 'g',\n",
       " 'gr',\n",
       " 'gra',\n",
       " 'grap',\n",
       " 'graph',\n",
       " 'h',\n",
       " 'o',\n",
       " 'og',\n",
       " 'ogr',\n",
       " 'ogra',\n",
       " 'ograp',\n",
       " 'ograph',\n",
       " 'p',\n",
       " 'ph',\n",
       " 'r',\n",
       " 'ra',\n",
       " 'rap',\n",
       " 'raph',\n",
       " 't',\n",
       " 'to',\n",
       " 'tog',\n",
       " 'togr',\n",
       " 'togra',\n",
       " 'tograp',\n",
       " 'tograph'}"
      ]
     },
     "execution_count": 19,
     "metadata": {},
     "output_type": "execute_result"
    }
   ],
   "source": [
    "intersection"
   ]
  },
  {
   "cell_type": "code",
   "execution_count": 21,
   "metadata": {},
   "outputs": [],
   "source": [
    "list_intersection=list(intersection)"
   ]
  },
  {
   "cell_type": "code",
   "execution_count": 22,
   "metadata": {},
   "outputs": [
    {
     "data": {
      "text/plain": [
       "['',\n",
       " 'h',\n",
       " 'ra',\n",
       " 't',\n",
       " 'gra',\n",
       " 'tog',\n",
       " 'aph',\n",
       " 'a',\n",
       " 'raph',\n",
       " 'og',\n",
       " 'gr',\n",
       " 'r',\n",
       " 'graph',\n",
       " 'togr',\n",
       " 'rap',\n",
       " 'ap',\n",
       " 'togra',\n",
       " 'g',\n",
       " 'ogr',\n",
       " 'p',\n",
       " 'ph',\n",
       " 'to',\n",
       " 'grap',\n",
       " 'ograp',\n",
       " 'o',\n",
       " 'tograph',\n",
       " 'ogra',\n",
       " 'tograp',\n",
       " 'ograph']"
      ]
     },
     "execution_count": 22,
     "metadata": {},
     "output_type": "execute_result"
    }
   ],
   "source": [
    "list_intersection"
   ]
  },
  {
   "cell_type": "code",
   "execution_count": 25,
   "metadata": {},
   "outputs": [],
   "source": [
    "result2='a'\n",
    "for i in range(len(list_intersection)):\n",
    "    if list_intersection[i]>=result2:\n",
    "        result2=list_intersection[i]"
   ]
  },
  {
   "cell_type": "code",
   "execution_count": 26,
   "metadata": {},
   "outputs": [
    {
     "data": {
      "text/plain": [
       "'tograph'"
      ]
     },
     "execution_count": 26,
     "metadata": {},
     "output_type": "execute_result"
    }
   ],
   "source": [
    "result2"
   ]
  }
 ],
 "metadata": {
  "kernelspec": {
   "display_name": "Python 3",
   "language": "python",
   "name": "python3"
  },
  "language_info": {
   "codemirror_mode": {
    "name": "ipython",
    "version": 3
   },
   "file_extension": ".py",
   "mimetype": "text/x-python",
   "name": "python",
   "nbconvert_exporter": "python",
   "pygments_lexer": "ipython3",
   "version": "3.7.4"
  }
 },
 "nbformat": 4,
 "nbformat_minor": 2
}

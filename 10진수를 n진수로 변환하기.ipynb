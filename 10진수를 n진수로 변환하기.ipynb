{
 "cells": [
  {
   "cell_type": "markdown",
   "metadata": {},
   "source": [
    "다음은 233 이란 10진수를 2진수로 변환하는 과정을 나타낸 그림이다.\n",
    "\n",
    "![nn](dectobin.png)\n",
    "\n",
    "위 그림을 참조하여 라이브러리를 사용하지 말고 10진수를 n진수로 변환하는 프로그램을 작성하시오.. (단, n의 범위는 2 <= n <= 16)\n",
    "\n",
    "예)\n",
    "\n",
    "+ 2진수로 변환 : 233(10) --> 11101001(2)\n",
    "+ 8진수로 변환 : 233(10) --> 351(8)\n",
    "+ 16진수로 변환 : 233(10) --> E9(16)"
   ]
  },
  {
   "cell_type": "markdown",
   "metadata": {},
   "source": [
    "## 내 생각 \n",
    "\n",
    "+ n으로 나눈 나머지가 한자리수면 그대로 적고, 두자리수면 10=a, 11=b 이런식으로 표기한다 \n",
    "+ 몫이 0이되는 순간 stop "
   ]
  },
  {
   "cell_type": "markdown",
   "metadata": {},
   "source": [
    "## 2진수 부터 만들어보기 (재귀함수)"
   ]
  },
  {
   "cell_type": "code",
   "execution_count": 4,
   "metadata": {},
   "outputs": [],
   "source": [
    "def fun_Binary(n):\n",
    "    quot=n//2\n",
    "    rem=n%2\n",
    "    \n",
    "    if quot==0:\n",
    "        return '1'\n",
    "    else:\n",
    "        return fun_Binary(n//2)+str(rem)"
   ]
  },
  {
   "cell_type": "code",
   "execution_count": 6,
   "metadata": {},
   "outputs": [
    {
     "data": {
      "text/plain": [
       "'11101001'"
      ]
     },
     "execution_count": 6,
     "metadata": {},
     "output_type": "execute_result"
    }
   ],
   "source": [
    "fun_Binary(233)"
   ]
  },
  {
   "cell_type": "markdown",
   "metadata": {},
   "source": [
    "## n진수(2~16) 만들기 (재귀함수)"
   ]
  },
  {
   "cell_type": "code",
   "execution_count": 18,
   "metadata": {},
   "outputs": [
    {
     "name": "stdout",
     "output_type": "stream",
     "text": [
      "몇진수를 만들까요? 2~16 사이만 입력해주세요.16\n"
     ]
    }
   ],
   "source": [
    "kk=int(input('몇진수를 만들까요? 2~16 사이만 입력해주세요.'))"
   ]
  },
  {
   "cell_type": "code",
   "execution_count": 22,
   "metadata": {},
   "outputs": [],
   "source": [
    "def fun_Binary(n,k):\n",
    "    quot=n//k\n",
    "    rem=n%k\n",
    "    \n",
    "    #몫이 0이라면 1 반환하고 끝 \n",
    "    if quot==0:\n",
    "        return '1' \n",
    "    \n",
    "    #나머지가 10이상일때 > 영어로 \n",
    "    else:\n",
    "        if rem>=10:\n",
    "            if rem==10:\n",
    "                rem='a'\n",
    "            elif rem==11:\n",
    "                rem='b'\n",
    "            elif rem==12:\n",
    "                rem='c'\n",
    "            elif rem==13:\n",
    "                rem='d'\n",
    "            elif rem==14:\n",
    "                rem='e'\n",
    "            else:\n",
    "                rem='f'\n",
    "            return fun_Binary(quot)+rem\n",
    "            \n",
    "    \n",
    "        else:\n",
    "            return fun_Binary(quot) + str(rem)"
   ]
  },
  {
   "cell_type": "code",
   "execution_count": 23,
   "metadata": {},
   "outputs": [
    {
     "ename": "TypeError",
     "evalue": "fun_Binary() missing 1 required positional argument: 'k'",
     "output_type": "error",
     "traceback": [
      "\u001b[1;31m---------------------------------------------------------------------------\u001b[0m",
      "\u001b[1;31mTypeError\u001b[0m                                 Traceback (most recent call last)",
      "\u001b[1;32m<ipython-input-23-6fa6317561c6>\u001b[0m in \u001b[0;36m<module>\u001b[1;34m\u001b[0m\n\u001b[1;32m----> 1\u001b[1;33m \u001b[0mfun_Binary\u001b[0m\u001b[1;33m(\u001b[0m\u001b[1;36m233\u001b[0m\u001b[1;33m,\u001b[0m\u001b[1;36m16\u001b[0m\u001b[1;33m)\u001b[0m\u001b[1;33m\u001b[0m\u001b[1;33m\u001b[0m\u001b[0m\n\u001b[0m",
      "\u001b[1;32m<ipython-input-22-245cdf52597c>\u001b[0m in \u001b[0;36mfun_Binary\u001b[1;34m(n, k)\u001b[0m\n\u001b[0;32m     26\u001b[0m \u001b[1;33m\u001b[0m\u001b[0m\n\u001b[0;32m     27\u001b[0m         \u001b[1;32melse\u001b[0m\u001b[1;33m:\u001b[0m\u001b[1;33m\u001b[0m\u001b[1;33m\u001b[0m\u001b[0m\n\u001b[1;32m---> 28\u001b[1;33m             \u001b[1;32mreturn\u001b[0m \u001b[0mfun_Binary\u001b[0m\u001b[1;33m(\u001b[0m\u001b[0mquot\u001b[0m\u001b[1;33m)\u001b[0m \u001b[1;33m+\u001b[0m \u001b[0mstr\u001b[0m\u001b[1;33m(\u001b[0m\u001b[0mrem\u001b[0m\u001b[1;33m)\u001b[0m\u001b[1;33m\u001b[0m\u001b[1;33m\u001b[0m\u001b[0m\n\u001b[0m",
      "\u001b[1;31mTypeError\u001b[0m: fun_Binary() missing 1 required positional argument: 'k'"
     ]
    }
   ],
   "source": [
    "fun_Binary(233,16)\n",
    "# 왜 이런 오류가 나는지 모르겠음 ,.,,,,, "
   ]
  },
  {
   "cell_type": "markdown",
   "metadata": {},
   "source": [
    "## 재귀함수 없이 "
   ]
  },
  {
   "cell_type": "code",
   "execution_count": 24,
   "metadata": {},
   "outputs": [],
   "source": [
    "def dim(m,n):\n",
    "    result=[]\n",
    "    while m//n!=0:\n",
    "        rem=m%n\n",
    "        m=m//n \n",
    "        result.append(rem)\n",
    "        \n",
    "    rem=m%n; result.append(rem)\n",
    "    for i in range(len(result)-1, -1, -1) :\n",
    "        if result[i] == 10 : result[i] = 'A'\n",
    "        elif result[i] == 11 : result[i] = 'B'\n",
    "        elif result[i] == 12 : result[i] = 'C'\n",
    "        elif result[i] == 13 : result[i] = 'D'\n",
    "        elif result[i] == 14 : result[i] = 'E'\n",
    "        elif result[i] == 15 : result[i] = 'F'\n",
    "        print(result[i], end = '')    "
   ]
  },
  {
   "cell_type": "code",
   "execution_count": 25,
   "metadata": {},
   "outputs": [
    {
     "name": "stdout",
     "output_type": "stream",
     "text": [
      "E9"
     ]
    }
   ],
   "source": [
    "dim(233,16)"
   ]
  }
 ],
 "metadata": {
  "kernelspec": {
   "display_name": "Python 3",
   "language": "python",
   "name": "python3"
  },
  "language_info": {
   "codemirror_mode": {
    "name": "ipython",
    "version": 3
   },
   "file_extension": ".py",
   "mimetype": "text/x-python",
   "name": "python",
   "nbconvert_exporter": "python",
   "pygments_lexer": "ipython3",
   "version": "3.7.3"
  }
 },
 "nbformat": 4,
 "nbformat_minor": 2
}

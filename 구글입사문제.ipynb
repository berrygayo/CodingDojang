{
 "cells": [
  {
   "cell_type": "markdown",
   "metadata": {},
   "source": [
    "1부터 10,000까지 8이라는 숫자가 총 몇번 나오는가?\n",
    "8이 포함되어 있는 숫자의 갯수를 카운팅 하는 것이 아니라 8이라는 숫자를 모두 카운팅 해야 한다.\n",
    "(※ 예를들어 8808은 3, 8888은 4로 카운팅 해야 함)"
   ]
  },
  {
   "cell_type": "code",
   "execution_count": 57,
   "metadata": {},
   "outputs": [
    {
     "name": "stdout",
     "output_type": "stream",
     "text": [
      "8의 갯수는: 3\n"
     ]
    }
   ],
   "source": [
    "def count_8(n):\n",
    "    global sum\n",
    "    \n",
    "    if (n==8):\n",
    "        sum+=1\n",
    "    return sum     \n",
    "\n",
    "def divid(m):\n",
    "    global sum\n",
    "\n",
    "    str_m=str(m)\n",
    "    len_m=len(str_m)\n",
    "    \n",
    "    for i in range(len_m):\n",
    "        count_8(int(str_m[i]))    \n",
    "    \n",
    "    print('8의 갯수는:',sum)\n",
    "    \n",
    "    \n",
    "sum=0\n",
    "divid(88558)"
   ]
  },
  {
   "cell_type": "code",
   "execution_count": null,
   "metadata": {},
   "outputs": [],
   "source": []
  },
  {
   "cell_type": "code",
   "execution_count": null,
   "metadata": {},
   "outputs": [],
   "source": []
  },
  {
   "cell_type": "code",
   "execution_count": null,
   "metadata": {},
   "outputs": [],
   "source": []
  },
  {
   "cell_type": "code",
   "execution_count": null,
   "metadata": {},
   "outputs": [],
   "source": []
  }
 ],
 "metadata": {
  "kernelspec": {
   "display_name": "Python 3",
   "language": "python",
   "name": "python3"
  },
  "language_info": {
   "codemirror_mode": {
    "name": "ipython",
    "version": 3
   },
   "file_extension": ".py",
   "mimetype": "text/x-python",
   "name": "python",
   "nbconvert_exporter": "python",
   "pygments_lexer": "ipython3",
   "version": "3.7.3"
  }
 },
 "nbformat": 4,
 "nbformat_minor": 2
}
